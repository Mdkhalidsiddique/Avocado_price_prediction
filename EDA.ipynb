{
 "cells": [
  {
   "cell_type": "code",
   "execution_count": 1,
   "metadata": {},
   "outputs": [],
   "source": [
    "import pandas as pd\n",
    "import matplotlib\n",
    "matplotlib.use(\"Agg\", warn=False)\n",
    "import matplotlib.pyplot as plt\n",
    "import numpy as np\n",
    "import seaborn as sns\n",
    "%matplotlib inline\n",
    "\n",
    "import warnings\n",
    "warnings.filterwarnings(\"ignore\")\n",
    "warnings.filterwarnings(\"ignore\",category=DeprecationWarning)"
   ]
  },
  {
   "cell_type": "code",
   "execution_count": 2,
   "metadata": {},
   "outputs": [],
   "source": [
    "train = pd.read_csv(\"traindataset.csv\")\n",
    "test = pd.read_csv(\"testdataset.csv\")"
   ]
  },
  {
   "cell_type": "code",
   "execution_count": 3,
   "metadata": {},
   "outputs": [
    {
     "data": {
      "text/html": [
       "<div>\n",
       "<style scoped>\n",
       "    .dataframe tbody tr th:only-of-type {\n",
       "        vertical-align: middle;\n",
       "    }\n",
       "\n",
       "    .dataframe tbody tr th {\n",
       "        vertical-align: top;\n",
       "    }\n",
       "\n",
       "    .dataframe thead th {\n",
       "        text-align: right;\n",
       "    }\n",
       "</style>\n",
       "<table border=\"1\" class=\"dataframe\">\n",
       "  <thead>\n",
       "    <tr style=\"text-align: right;\">\n",
       "      <th></th>\n",
       "      <th>Unnamed: 0</th>\n",
       "      <th>Date</th>\n",
       "      <th>AveragePrice</th>\n",
       "      <th>Total Volume</th>\n",
       "      <th>4046</th>\n",
       "      <th>4225</th>\n",
       "      <th>4770</th>\n",
       "      <th>Total Bags</th>\n",
       "      <th>Small Bags</th>\n",
       "      <th>Large Bags</th>\n",
       "      <th>XLarge Bags</th>\n",
       "      <th>type</th>\n",
       "      <th>year</th>\n",
       "      <th>region</th>\n",
       "    </tr>\n",
       "  </thead>\n",
       "  <tbody>\n",
       "    <tr>\n",
       "      <th>0</th>\n",
       "      <td>25</td>\n",
       "      <td>2015-07-05</td>\n",
       "      <td>1.47</td>\n",
       "      <td>140413.90</td>\n",
       "      <td>1503.10</td>\n",
       "      <td>56925.46</td>\n",
       "      <td>6707.85</td>\n",
       "      <td>75277.49</td>\n",
       "      <td>74370.82</td>\n",
       "      <td>906.67</td>\n",
       "      <td>0.00</td>\n",
       "      <td>conventional</td>\n",
       "      <td>2015</td>\n",
       "      <td>BuffaloRochester</td>\n",
       "    </tr>\n",
       "    <tr>\n",
       "      <th>1</th>\n",
       "      <td>45</td>\n",
       "      <td>2015-02-15</td>\n",
       "      <td>1.66</td>\n",
       "      <td>10159.47</td>\n",
       "      <td>7842.64</td>\n",
       "      <td>1205.10</td>\n",
       "      <td>0.00</td>\n",
       "      <td>1111.73</td>\n",
       "      <td>1096.68</td>\n",
       "      <td>15.05</td>\n",
       "      <td>0.00</td>\n",
       "      <td>organic</td>\n",
       "      <td>2015</td>\n",
       "      <td>PhoenixTucson</td>\n",
       "    </tr>\n",
       "    <tr>\n",
       "      <th>2</th>\n",
       "      <td>11</td>\n",
       "      <td>2016-10-09</td>\n",
       "      <td>0.99</td>\n",
       "      <td>885661.32</td>\n",
       "      <td>382978.65</td>\n",
       "      <td>208869.08</td>\n",
       "      <td>10640.59</td>\n",
       "      <td>283173.00</td>\n",
       "      <td>153973.16</td>\n",
       "      <td>128733.17</td>\n",
       "      <td>466.67</td>\n",
       "      <td>conventional</td>\n",
       "      <td>2016</td>\n",
       "      <td>PhoenixTucson</td>\n",
       "    </tr>\n",
       "    <tr>\n",
       "      <th>3</th>\n",
       "      <td>48</td>\n",
       "      <td>2015-01-25</td>\n",
       "      <td>1.06</td>\n",
       "      <td>290611.31</td>\n",
       "      <td>3806.65</td>\n",
       "      <td>233232.89</td>\n",
       "      <td>24.12</td>\n",
       "      <td>53547.65</td>\n",
       "      <td>53543.21</td>\n",
       "      <td>4.44</td>\n",
       "      <td>0.00</td>\n",
       "      <td>conventional</td>\n",
       "      <td>2015</td>\n",
       "      <td>NorthernNewEngland</td>\n",
       "    </tr>\n",
       "    <tr>\n",
       "      <th>4</th>\n",
       "      <td>22</td>\n",
       "      <td>2017-07-30</td>\n",
       "      <td>1.52</td>\n",
       "      <td>1306226.34</td>\n",
       "      <td>63098.74</td>\n",
       "      <td>856414.09</td>\n",
       "      <td>3849.65</td>\n",
       "      <td>382863.86</td>\n",
       "      <td>362404.90</td>\n",
       "      <td>17642.09</td>\n",
       "      <td>2816.87</td>\n",
       "      <td>conventional</td>\n",
       "      <td>2017</td>\n",
       "      <td>NewYork</td>\n",
       "    </tr>\n",
       "  </tbody>\n",
       "</table>\n",
       "</div>"
      ],
      "text/plain": [
       "   Unnamed: 0        Date  AveragePrice  Total Volume       4046       4225  \\\n",
       "0          25  2015-07-05          1.47     140413.90    1503.10   56925.46   \n",
       "1          45  2015-02-15          1.66      10159.47    7842.64    1205.10   \n",
       "2          11  2016-10-09          0.99     885661.32  382978.65  208869.08   \n",
       "3          48  2015-01-25          1.06     290611.31    3806.65  233232.89   \n",
       "4          22  2017-07-30          1.52    1306226.34   63098.74  856414.09   \n",
       "\n",
       "       4770  Total Bags  Small Bags  Large Bags  XLarge Bags          type  \\\n",
       "0   6707.85    75277.49    74370.82      906.67         0.00  conventional   \n",
       "1      0.00     1111.73     1096.68       15.05         0.00       organic   \n",
       "2  10640.59   283173.00   153973.16   128733.17       466.67  conventional   \n",
       "3     24.12    53547.65    53543.21        4.44         0.00  conventional   \n",
       "4   3849.65   382863.86   362404.90    17642.09      2816.87  conventional   \n",
       "\n",
       "   year              region  \n",
       "0  2015    BuffaloRochester  \n",
       "1  2015       PhoenixTucson  \n",
       "2  2016       PhoenixTucson  \n",
       "3  2015  NorthernNewEngland  \n",
       "4  2017             NewYork  "
      ]
     },
     "execution_count": 3,
     "metadata": {},
     "output_type": "execute_result"
    }
   ],
   "source": [
    "train.head()"
   ]
  },
  {
   "cell_type": "code",
   "execution_count": 4,
   "metadata": {},
   "outputs": [
    {
     "data": {
      "text/html": [
       "<div>\n",
       "<style scoped>\n",
       "    .dataframe tbody tr th:only-of-type {\n",
       "        vertical-align: middle;\n",
       "    }\n",
       "\n",
       "    .dataframe tbody tr th {\n",
       "        vertical-align: top;\n",
       "    }\n",
       "\n",
       "    .dataframe thead th {\n",
       "        text-align: right;\n",
       "    }\n",
       "</style>\n",
       "<table border=\"1\" class=\"dataframe\">\n",
       "  <thead>\n",
       "    <tr style=\"text-align: right;\">\n",
       "      <th></th>\n",
       "      <th>Unnamed: 0</th>\n",
       "      <th>Date</th>\n",
       "      <th>Total Volume</th>\n",
       "      <th>4046</th>\n",
       "      <th>4225</th>\n",
       "      <th>4770</th>\n",
       "      <th>Total Bags</th>\n",
       "      <th>Small Bags</th>\n",
       "      <th>Large Bags</th>\n",
       "      <th>XLarge Bags</th>\n",
       "      <th>type</th>\n",
       "      <th>year</th>\n",
       "      <th>region</th>\n",
       "    </tr>\n",
       "  </thead>\n",
       "  <tbody>\n",
       "    <tr>\n",
       "      <th>0</th>\n",
       "      <td>32</td>\n",
       "      <td>2015-05-17</td>\n",
       "      <td>13045.36</td>\n",
       "      <td>7163.20</td>\n",
       "      <td>5530.28</td>\n",
       "      <td>0.00</td>\n",
       "      <td>351.88</td>\n",
       "      <td>351.88</td>\n",
       "      <td>0.00</td>\n",
       "      <td>0.0</td>\n",
       "      <td>organic</td>\n",
       "      <td>2015</td>\n",
       "      <td>Sacramento</td>\n",
       "    </tr>\n",
       "    <tr>\n",
       "      <th>1</th>\n",
       "      <td>20</td>\n",
       "      <td>2016-08-07</td>\n",
       "      <td>22282.57</td>\n",
       "      <td>12876.46</td>\n",
       "      <td>2651.64</td>\n",
       "      <td>8.06</td>\n",
       "      <td>6746.41</td>\n",
       "      <td>6538.45</td>\n",
       "      <td>207.96</td>\n",
       "      <td>0.0</td>\n",
       "      <td>organic</td>\n",
       "      <td>2016</td>\n",
       "      <td>Denver</td>\n",
       "    </tr>\n",
       "    <tr>\n",
       "      <th>2</th>\n",
       "      <td>35</td>\n",
       "      <td>2015-04-26</td>\n",
       "      <td>435990.48</td>\n",
       "      <td>235664.26</td>\n",
       "      <td>141949.05</td>\n",
       "      <td>14634.32</td>\n",
       "      <td>43742.85</td>\n",
       "      <td>37689.45</td>\n",
       "      <td>6053.40</td>\n",
       "      <td>0.0</td>\n",
       "      <td>conventional</td>\n",
       "      <td>2015</td>\n",
       "      <td>SanDiego</td>\n",
       "    </tr>\n",
       "    <tr>\n",
       "      <th>3</th>\n",
       "      <td>11</td>\n",
       "      <td>2016-10-09</td>\n",
       "      <td>219089.52</td>\n",
       "      <td>43010.81</td>\n",
       "      <td>111487.02</td>\n",
       "      <td>218.09</td>\n",
       "      <td>64373.60</td>\n",
       "      <td>63388.04</td>\n",
       "      <td>985.56</td>\n",
       "      <td>0.0</td>\n",
       "      <td>conventional</td>\n",
       "      <td>2016</td>\n",
       "      <td>HarrisburgScranton</td>\n",
       "    </tr>\n",
       "    <tr>\n",
       "      <th>4</th>\n",
       "      <td>21</td>\n",
       "      <td>2016-07-31</td>\n",
       "      <td>7431.86</td>\n",
       "      <td>666.13</td>\n",
       "      <td>3284.48</td>\n",
       "      <td>14.18</td>\n",
       "      <td>3467.07</td>\n",
       "      <td>3467.07</td>\n",
       "      <td>0.00</td>\n",
       "      <td>0.0</td>\n",
       "      <td>organic</td>\n",
       "      <td>2016</td>\n",
       "      <td>Philadelphia</td>\n",
       "    </tr>\n",
       "  </tbody>\n",
       "</table>\n",
       "</div>"
      ],
      "text/plain": [
       "   Unnamed: 0        Date  Total Volume       4046       4225      4770  \\\n",
       "0          32  2015-05-17      13045.36    7163.20    5530.28      0.00   \n",
       "1          20  2016-08-07      22282.57   12876.46    2651.64      8.06   \n",
       "2          35  2015-04-26     435990.48  235664.26  141949.05  14634.32   \n",
       "3          11  2016-10-09     219089.52   43010.81  111487.02    218.09   \n",
       "4          21  2016-07-31       7431.86     666.13    3284.48     14.18   \n",
       "\n",
       "   Total Bags  Small Bags  Large Bags  XLarge Bags          type  year  \\\n",
       "0      351.88      351.88        0.00          0.0       organic  2015   \n",
       "1     6746.41     6538.45      207.96          0.0       organic  2016   \n",
       "2    43742.85    37689.45     6053.40          0.0  conventional  2015   \n",
       "3    64373.60    63388.04      985.56          0.0  conventional  2016   \n",
       "4     3467.07     3467.07        0.00          0.0       organic  2016   \n",
       "\n",
       "               region  \n",
       "0          Sacramento  \n",
       "1              Denver  \n",
       "2            SanDiego  \n",
       "3  HarrisburgScranton  \n",
       "4        Philadelphia  "
      ]
     },
     "execution_count": 4,
     "metadata": {},
     "output_type": "execute_result"
    }
   ],
   "source": [
    "test.head()"
   ]
  },
  {
   "cell_type": "code",
   "execution_count": 5,
   "metadata": {},
   "outputs": [
    {
     "data": {
      "text/plain": [
       "((16000, 14), (2249, 13))"
      ]
     },
     "execution_count": 5,
     "metadata": {},
     "output_type": "execute_result"
    }
   ],
   "source": [
    "train.shape, test.shape"
   ]
  },
  {
   "cell_type": "code",
   "execution_count": 6,
   "metadata": {},
   "outputs": [
    {
     "data": {
      "text/plain": [
       "Unnamed: 0      0\n",
       "Date            0\n",
       "AveragePrice    0\n",
       "Total Volume    0\n",
       "4046            0\n",
       "4225            0\n",
       "4770            0\n",
       "Total Bags      0\n",
       "Small Bags      0\n",
       "Large Bags      0\n",
       "XLarge Bags     0\n",
       "type            0\n",
       "year            0\n",
       "region          0\n",
       "dtype: int64"
      ]
     },
     "execution_count": 6,
     "metadata": {},
     "output_type": "execute_result"
    }
   ],
   "source": [
    "#Lets check for any null=values in our data set\n",
    "train.isna().sum()"
   ]
  },
  {
   "cell_type": "code",
   "execution_count": 7,
   "metadata": {},
   "outputs": [
    {
     "data": {
      "text/plain": [
       "Unnamed: 0      0\n",
       "Date            0\n",
       "Total Volume    0\n",
       "4046            0\n",
       "4225            0\n",
       "4770            0\n",
       "Total Bags      0\n",
       "Small Bags      0\n",
       "Large Bags      0\n",
       "XLarge Bags     0\n",
       "type            0\n",
       "year            0\n",
       "region          0\n",
       "dtype: int64"
      ]
     },
     "execution_count": 7,
     "metadata": {},
     "output_type": "execute_result"
    }
   ],
   "source": [
    "#Lets check for any null=values in our data set\n",
    "test.isna().sum()"
   ]
  },
  {
   "cell_type": "markdown",
   "metadata": {},
   "source": [
    "# Data preprocessing"
   ]
  },
  {
   "cell_type": "markdown",
   "metadata": {},
   "source": [
    "The Feature \"Unnamed:0\" is just a representation of the indexes, so it's useless to keep it, lets remove it now !"
   ]
  },
  {
   "cell_type": "code",
   "execution_count": 8,
   "metadata": {},
   "outputs": [],
   "source": [
    "train.drop('Unnamed: 0',axis=1,inplace=True) \n",
    "test.drop('Unnamed: 0',axis=1,inplace=True) \n"
   ]
  },
  {
   "cell_type": "code",
   "execution_count": 9,
   "metadata": {},
   "outputs": [],
   "source": [
    "train['Date']=pd.to_datetime(train['Date'])\n",
    "train['Month']=train['Date'].apply(lambda x:x.month)\n",
    "train['Day']=train['Date'].apply(lambda x:x.day)\n",
    "test['Date']=pd.to_datetime(test['Date'])\n",
    "test['Month']=test['Date'].apply(lambda x:x.month)\n",
    "test['Day']=test['Date'].apply(lambda x:x.day)"
   ]
  },
  {
   "cell_type": "markdown",
   "metadata": {},
   "source": [
    "# Treating of categorical variables"
   ]
  },
  {
   "cell_type": "code",
   "execution_count": 11,
   "metadata": {},
   "outputs": [
    {
     "data": {
      "text/plain": [
       "array([0, 1], dtype=int64)"
      ]
     },
     "execution_count": 11,
     "metadata": {},
     "output_type": "execute_result"
    }
   ],
   "source": [
    "#Lets check how many unique values are available in type column\n",
    "train['type'].unique()"
   ]
  },
  {
   "cell_type": "code",
   "execution_count": 10,
   "metadata": {},
   "outputs": [],
   "source": [
    "train['type'] = train['type'].map({\n",
    "    'conventional': 0,\n",
    "    'organic': 1\n",
    "}.get)\n",
    "test['type'] = test['type'].map({\n",
    "    'conventional': 0,\n",
    "    'organic': 1\n",
    "}.get)\n"
   ]
  },
  {
   "cell_type": "markdown",
   "metadata": {},
   "source": [
    "As i converted the date column to date format i already got month, year and day seperatly hence i will drop Date column"
   ]
  },
  {
   "cell_type": "code",
   "execution_count": 12,
   "metadata": {},
   "outputs": [],
   "source": [
    "train.drop(['Date'],axis=1,inplace=True)\n",
    "test.drop(['Date'],axis=1,inplace=True)\n"
   ]
  },
  {
   "cell_type": "code",
   "execution_count": null,
   "metadata": {},
   "outputs": [],
   "source": []
  },
  {
   "cell_type": "code",
   "execution_count": null,
   "metadata": {},
   "outputs": [],
   "source": [
    "#train = pd.concat([train,dummies.drop('WestTexNewMexico', axis='columns')], axis = 'columns')\n",
    "#test = pd.concat([test,dummies.drop('WestTexNewMexico', axis='columns')], axis = 'columns')"
   ]
  },
  {
   "cell_type": "code",
   "execution_count": 13,
   "metadata": {},
   "outputs": [],
   "source": [
    "train = train.rename(columns={'Total Volume': 'Total_volume', 'Small Bags': 'Small_bags', '4046' : 'Small_Hass', '4225': 'Large_Hass', '4770' : 'Extra_large_hass', 'Large Bags': 'Large_bags', 'XLarge Bags':'Xlarge_bags', 'Total Bags':'Total_bags'})\n",
    "test = test.rename(columns={'Total Volume': 'Total_volume', 'Small Bags': 'Small_bags', '4046' : 'Small_Hass', '4225': 'Large_Hass', '4770' : 'Extra_large_hass', 'Large Bags': 'Large_bags', 'XLarge Bags':'Xlarge_bags', 'Total Bags':'Total_bags'})\n"
   ]
  },
  {
   "cell_type": "markdown",
   "metadata": {},
   "source": [
    "# Now let us check for outliers in our data set"
   ]
  },
  {
   "cell_type": "code",
   "execution_count": 14,
   "metadata": {},
   "outputs": [
    {
     "data": {
      "text/plain": [
       "<matplotlib.axes._subplots.AxesSubplot at 0x1db442ac940>"
      ]
     },
     "execution_count": 14,
     "metadata": {},
     "output_type": "execute_result"
    },
    {
     "data": {
      "image/png": "[encoded data removed]",
      "text/plain": [
       "<Figure size 1440x576 with 1 Axes>"
      ]
     },
     "metadata": {
      "needs_background": "light"
     },
     "output_type": "display_data"
    }
   ],
   "source": [
    "#start from averageprice column\n",
    "train.boxplot(figsize=(20,8))\n"
   ]
  },
  {
   "cell_type": "code",
   "execution_count": 15,
   "metadata": {},
   "outputs": [
    {
     "data": {
      "text/plain": [
       "<matplotlib.axes._subplots.AxesSubplot at 0x1db44723160>"
      ]
     },
     "execution_count": 15,
     "metadata": {},
     "output_type": "execute_result"
    },
    {
     "data": {
      "image/png": "[encoded data removed]",
      "text/plain": [
       "<Figure size 1440x576 with 1 Axes>"
      ]
     },
     "metadata": {
      "needs_background": "light"
     },
     "output_type": "display_data"
    }
   ],
   "source": [
    "#start from averageprice column\n",
    "test.boxplot(figsize=(20,8))"
   ]
  },
  {
   "cell_type": "code",
   "execution_count": 16,
   "metadata": {},
   "outputs": [
    {
     "name": "stdout",
     "output_type": "stream",
     "text": [
      "0.9300000000000002\n",
      "1.93\n"
     ]
    }
   ],
   "source": [
    "print(train['AveragePrice'].quantile(0.10))\n",
    "print(train['AveragePrice'].quantile(0.90))"
   ]
  },
  {
   "cell_type": "code",
   "execution_count": 17,
   "metadata": {},
   "outputs": [],
   "source": [
    "train[\"AveragePrice\"] = np.where(train[\"AveragePrice\"] <0.93, 0.93,train['AveragePrice'])\n",
    "train[\"AveragePrice\"] = np.where(train[\"AveragePrice\"] >1.9299999999999997, 1.9299999999999997,train['AveragePrice'])"
   ]
  },
  {
   "cell_type": "code",
   "execution_count": 18,
   "metadata": {},
   "outputs": [
    {
     "name": "stdout",
     "output_type": "stream",
     "text": [
      "3896.8940000000002\n",
      "1378774.3769999999\n"
     ]
    }
   ],
   "source": [
    "print(train['Total_volume'].quantile(0.10))\n",
    "print(train['Total_volume'].quantile(0.90))"
   ]
  },
  {
   "cell_type": "code",
   "execution_count": 19,
   "metadata": {},
   "outputs": [
    {
     "name": "stdout",
     "output_type": "stream",
     "text": [
      "3922.3420000000006\n",
      "1462134.4920000008\n"
     ]
    }
   ],
   "source": [
    "print(test['Total_volume'].quantile(0.10))\n",
    "print(test['Total_volume'].quantile(0.90))"
   ]
  },
  {
   "cell_type": "code",
   "execution_count": 20,
   "metadata": {},
   "outputs": [],
   "source": [
    "train[\"Total_volume\"] = np.where(train[\"Total_volume\"] <3896.768, 3896.768,train['Total_volume'])\n",
    "train[\"Total_volume\"] = np.where(train[\"Total_volume\"] >1387045.76, 1387045.76,train['Total_volume'])"
   ]
  },
  {
   "cell_type": "code",
   "execution_count": 21,
   "metadata": {},
   "outputs": [],
   "source": [
    "test[\"Total_volume\"] = np.where(test[\"Total_volume\"] <3922.342, 3922.342,test['Total_volume'])\n",
    "test[\"Total_volume\"] = np.where(test[\"Total_volume\"] >1462134.492, 1462134.492,test['Total_volume'])"
   ]
  },
  {
   "cell_type": "code",
   "execution_count": 22,
   "metadata": {},
   "outputs": [
    {
     "name": "stdout",
     "output_type": "stream",
     "text": [
      "93.694\n",
      "538382.897\n"
     ]
    }
   ],
   "source": [
    "print(train['Small_Hass'].quantile(0.10))\n",
    "print(train['Small_Hass'].quantile(0.90))"
   ]
  },
  {
   "cell_type": "code",
   "execution_count": 23,
   "metadata": {
    "scrolled": true
   },
   "outputs": [
    {
     "name": "stdout",
     "output_type": "stream",
     "text": [
      "100.05600000000001\n",
      "539131.8960000002\n"
     ]
    }
   ],
   "source": [
    "print(test['Small_Hass'].quantile(0.10))\n",
    "print(test['Small_Hass'].quantile(0.90))"
   ]
  },
  {
   "cell_type": "code",
   "execution_count": 24,
   "metadata": {},
   "outputs": [],
   "source": [
    "train[\"Small_Hass\"] = np.where(train[\"Small_Hass\"] <94.276, 94.276,train['Small_Hass'])\n",
    "train[\"Small_Hass\"] = np.where(train[\"Small_Hass\"] >538385.184, 538385.184,train['Small_Hass'])"
   ]
  },
  {
   "cell_type": "code",
   "execution_count": 25,
   "metadata": {},
   "outputs": [],
   "source": [
    "test[\"Small_Hass\"] = np.where(test[\"Small_Hass\"] <100.056, 100.056,test['Small_Hass'])\n",
    "test[\"Small_Hass\"] = np.where(test[\"Small_Hass\"] >539131.896, 539131.896,test['Small_Hass'])"
   ]
  },
  {
   "cell_type": "code",
   "execution_count": 26,
   "metadata": {},
   "outputs": [
    {
     "name": "stdout",
     "output_type": "stream",
     "text": [
      "369.57\n",
      "498164.70900000015\n"
     ]
    }
   ],
   "source": [
    "print(train['Large_Hass'].quantile(0.10))\n",
    "print(train['Large_Hass'].quantile(0.90))"
   ]
  },
  {
   "cell_type": "code",
   "execution_count": 27,
   "metadata": {},
   "outputs": [
    {
     "name": "stdout",
     "output_type": "stream",
     "text": [
      "348.43399999999997\n",
      "525449.1680000002\n"
     ]
    }
   ],
   "source": [
    "print(test['Large_Hass'].quantile(0.10))\n",
    "print(test['Large_Hass'].quantile(0.90))"
   ]
  },
  {
   "cell_type": "code",
   "execution_count": 28,
   "metadata": {},
   "outputs": [],
   "source": [
    "train[\"Large_Hass\"] = np.where(train[\"Large_Hass\"] <367.484, 367.484,train['Large_Hass'])\n",
    "train[\"Large_Hass\"] = np.where(train[\"Large_Hass\"] >500784.552, 500784.552,train['Large_Hass'])"
   ]
  },
  {
   "cell_type": "code",
   "execution_count": 29,
   "metadata": {},
   "outputs": [],
   "source": [
    "test[\"Large_Hass\"] = np.where(test[\"Large_Hass\"] <348.4339, 348.4339,test['Large_Hass'])\n",
    "test[\"Large_Hass\"] = np.where(test[\"Large_Hass\"] >525449.168, 525449.168,test['Large_Hass'])"
   ]
  },
  {
   "cell_type": "code",
   "execution_count": 30,
   "metadata": {},
   "outputs": [
    {
     "name": "stdout",
     "output_type": "stream",
     "text": [
      "0.0\n",
      "30859.661000000055\n"
     ]
    }
   ],
   "source": [
    "print(train['Extra_large_hass'].quantile(0.10))\n",
    "print(train['Extra_large_hass'].quantile(0.90))"
   ]
  },
  {
   "cell_type": "code",
   "execution_count": 31,
   "metadata": {},
   "outputs": [
    {
     "name": "stdout",
     "output_type": "stream",
     "text": [
      "0.0\n",
      "36321.0\n"
     ]
    }
   ],
   "source": [
    "print(test['Extra_large_hass'].quantile(0.10))\n",
    "print(test['Extra_large_hass'].quantile(0.90))"
   ]
  },
  {
   "cell_type": "code",
   "execution_count": 32,
   "metadata": {},
   "outputs": [],
   "source": [
    "train[\"Extra_large_hass\"] = np.where(train[\"Extra_large_hass\"] <0.0, 0.0,train['Extra_large_hass'])\n",
    "train[\"Extra_large_hass\"] = np.where(train[\"Extra_large_hass\"] >30859.661, 30859.661,train['Extra_large_hass'])"
   ]
  },
  {
   "cell_type": "code",
   "execution_count": 33,
   "metadata": {},
   "outputs": [],
   "source": [
    "test[\"Extra_large_hass\"] = np.where(test[\"Extra_large_hass\"] <0.0, 0.0,test['Extra_large_hass'])\n",
    "test[\"Extra_large_hass\"] = np.where(test[\"Extra_large_hass\"] >36321.0, 3632.0,test['Extra_large_hass'])"
   ]
  },
  {
   "cell_type": "code",
   "execution_count": 34,
   "metadata": {},
   "outputs": [
    {
     "name": "stdout",
     "output_type": "stream",
     "text": [
      "1278.268\n",
      "441733.2930000001\n"
     ]
    }
   ],
   "source": [
    "print(train['Total_bags'].quantile(0.10))\n",
    "print(train['Total_bags'].quantile(0.90))"
   ]
  },
  {
   "cell_type": "code",
   "execution_count": 35,
   "metadata": {},
   "outputs": [
    {
     "name": "stdout",
     "output_type": "stream",
     "text": [
      "1523.516\n",
      "444534.98800000007\n"
     ]
    }
   ],
   "source": [
    "print(test['Total_bags'].quantile(0.10))\n",
    "print(test['Total_bags'].quantile(0.90))"
   ]
  },
  {
   "cell_type": "code",
   "execution_count": 36,
   "metadata": {},
   "outputs": [],
   "source": [
    "train[\"Total_bags\"] = np.where(train[\"Total_bags\"] <1278.268, 1278.268,train['Total_bags'])\n",
    "train[\"Total_bags\"] = np.where(train[\"Total_bags\"] >441733.293, 441733.293,train['Total_bags'])"
   ]
  },
  {
   "cell_type": "code",
   "execution_count": 37,
   "metadata": {},
   "outputs": [],
   "source": [
    "test[\"Total_bags\"] = np.where(test[\"Total_bags\"] <1523.516, 1523.516,test['Total_bags'])\n",
    "test[\"Total_bags\"] = np.where(test[\"Total_bags\"] >444534.988, 444534.988,test['Total_bags'])"
   ]
  },
  {
   "cell_type": "code",
   "execution_count": 38,
   "metadata": {},
   "outputs": [
    {
     "name": "stdout",
     "output_type": "stream",
     "text": [
      "579.8990000000001\n",
      "352498.20100000006\n"
     ]
    }
   ],
   "source": [
    "print(train['Small_bags'].quantile(0.10))\n",
    "print(train['Small_bags'].quantile(0.90))"
   ]
  },
  {
   "cell_type": "code",
   "execution_count": 39,
   "metadata": {},
   "outputs": [
    {
     "name": "stdout",
     "output_type": "stream",
     "text": [
      "610.864\n",
      "356638.8240000001\n"
     ]
    }
   ],
   "source": [
    "print(test['Small_bags'].quantile(0.10))\n",
    "print(test['Small_bags'].quantile(0.90))"
   ]
  },
  {
   "cell_type": "code",
   "execution_count": 40,
   "metadata": {},
   "outputs": [],
   "source": [
    "train[\"Small_bags\"] = np.where(train[\"Small_bags\"] <579.899, 579.899,train['Small_bags'])\n",
    "train[\"Small_bags\"] = np.where(train[\"Small_bags\"] >352498.201, 352498.201,train['Small_bags'])"
   ]
  },
  {
   "cell_type": "code",
   "execution_count": 41,
   "metadata": {},
   "outputs": [],
   "source": [
    "test[\"Small_bags\"] = np.where(test[\"Small_bags\"] <610.864, 610.864,test['Small_bags'])\n",
    "test[\"Small_bags\"] = np.where(test[\"Small_bags\"] >356638.824, 356638.824,test['Small_bags'])"
   ]
  },
  {
   "cell_type": "code",
   "execution_count": 42,
   "metadata": {},
   "outputs": [
    {
     "name": "stdout",
     "output_type": "stream",
     "text": [
      "0.0\n",
      "93665.44300000007\n"
     ]
    }
   ],
   "source": [
    "print(train['Large_bags'].quantile(0.10))\n",
    "print(train['Large_bags'].quantile(0.90))"
   ]
  },
  {
   "cell_type": "code",
   "execution_count": 43,
   "metadata": {},
   "outputs": [
    {
     "name": "stdout",
     "output_type": "stream",
     "text": [
      "0.0\n",
      "97253.96400000004\n"
     ]
    }
   ],
   "source": [
    "print(test['Large_bags'].quantile(0.10))\n",
    "print(test['Large_bags'].quantile(0.90))"
   ]
  },
  {
   "cell_type": "code",
   "execution_count": 44,
   "metadata": {},
   "outputs": [],
   "source": [
    "train[\"Large_bags\"] = np.where(train[\"Large_bags\"] <0.0, 0.0,train['Large_bags'])\n",
    "train[\"Large_bags\"] = np.where(train[\"Large_bags\"] >93665.443, 93665.443,train['Large_bags'])"
   ]
  },
  {
   "cell_type": "code",
   "execution_count": 45,
   "metadata": {},
   "outputs": [],
   "source": [
    "test[\"Large_bags\"] = np.where(test[\"Large_bags\"] <0.0, 0.0,test['Large_bags'])\n",
    "test[\"Large_bags\"] = np.where(test[\"Large_bags\"] >97253.964, 97253.964,test['Large_bags'])"
   ]
  },
  {
   "cell_type": "code",
   "execution_count": 46,
   "metadata": {},
   "outputs": [
    {
     "name": "stdout",
     "output_type": "stream",
     "text": [
      "0.0\n",
      "3653.7540000000026\n"
     ]
    }
   ],
   "source": [
    "print(train['Xlarge_bags'].quantile(0.10))\n",
    "print(train['Xlarge_bags'].quantile(0.90))"
   ]
  },
  {
   "cell_type": "code",
   "execution_count": 47,
   "metadata": {},
   "outputs": [
    {
     "name": "stdout",
     "output_type": "stream",
     "text": [
      "0.0\n",
      "4072.3360000000016\n"
     ]
    }
   ],
   "source": [
    "print(test['Xlarge_bags'].quantile(0.10))\n",
    "print(test['Xlarge_bags'].quantile(0.90))"
   ]
  },
  {
   "cell_type": "code",
   "execution_count": 48,
   "metadata": {},
   "outputs": [],
   "source": [
    "train[\"Xlarge_bags\"] = np.where(train[\"Xlarge_bags\"] <0.0, 0.0,train['Xlarge_bags'])\n",
    "train[\"Xlarge_bags\"] = np.where(train[\"Xlarge_bags\"] >3653.754, 3653.754,train['Xlarge_bags'])"
   ]
  },
  {
   "cell_type": "code",
   "execution_count": 49,
   "metadata": {},
   "outputs": [],
   "source": [
    "test[\"Xlarge_bags\"] = np.where(test[\"Xlarge_bags\"] <0.0, 0.0,test['Xlarge_bags'])\n",
    "test[\"Xlarge_bags\"] = np.where(test[\"Xlarge_bags\"] >4072.336, 4072.336,test['Xlarge_bags'])"
   ]
  },
  {
   "cell_type": "code",
   "execution_count": 50,
   "metadata": {},
   "outputs": [
    {
     "data": {
      "text/plain": [
       "<matplotlib.axes._subplots.AxesSubplot at 0x1db449c5080>"
      ]
     },
     "execution_count": 50,
     "metadata": {},
     "output_type": "execute_result"
    },
    {
     "data": {
      "image/png": "[encoded data removed]",
      "text/plain": [
       "<Figure size 1440x576 with 1 Axes>"
      ]
     },
     "metadata": {
      "needs_background": "light"
     },
     "output_type": "display_data"
    }
   ],
   "source": [
    "train.boxplot(figsize=(20,8))"
   ]
  },
  {
   "cell_type": "code",
   "execution_count": 51,
   "metadata": {},
   "outputs": [
    {
     "data": {
      "text/plain": [
       "<matplotlib.axes._subplots.AxesSubplot at 0x1db44eca9e8>"
      ]
     },
     "execution_count": 51,
     "metadata": {},
     "output_type": "execute_result"
    },
    {
     "data": {
      "image/png": "[encoded data removed]",
      "text/plain": [
       "<Figure size 1440x576 with 1 Axes>"
      ]
     },
     "metadata": {
      "needs_background": "light"
     },
     "output_type": "display_data"
    }
   ],
   "source": [
    "test.boxplot(figsize=(20,8))"
   ]
  },
  {
   "cell_type": "code",
   "execution_count": 53,
   "metadata": {},
   "outputs": [],
   "source": [
    "dummies=pd.get_dummies(train.region)\n",
    "dummies1=pd.get_dummies(test.region)\n"
   ]
  },
  {
   "cell_type": "code",
   "execution_count": 54,
   "metadata": {},
   "outputs": [],
   "source": [
    "train = pd.concat([train,dummies.drop('WestTexNewMexico', axis='columns')], axis = 'columns')\n",
    "test = pd.concat([test,dummies1.drop('WestTexNewMexico', axis='columns')], axis = 'columns')"
   ]
  },
  {
   "cell_type": "code",
   "execution_count": 55,
   "metadata": {},
   "outputs": [
    {
     "data": {
      "text/plain": [
       "(2249, 66)"
      ]
     },
     "execution_count": 55,
     "metadata": {},
     "output_type": "execute_result"
    }
   ],
   "source": [
    "test.shape"
   ]
  },
  {
   "cell_type": "code",
   "execution_count": 56,
   "metadata": {},
   "outputs": [],
   "source": [
    "train.drop('region',axis=1,inplace=True) \n",
    "test.drop('region',axis=1,inplace=True) "
   ]
  },
  {
   "cell_type": "code",
   "execution_count": 57,
   "metadata": {},
   "outputs": [],
   "source": [
    "train.to_csv(\"Train.csv1\", index = False)\n",
    "test.to_csv(\"Test.csv2\", index = False)"
   ]
  },
  {
   "cell_type": "code",
   "execution_count": null,
   "metadata": {},
   "outputs": [],
   "source": []
  },
  {
   "cell_type": "code",
   "execution_count": null,
   "metadata": {},
   "outputs": [],
   "source": []
  },
  {
   "cell_type": "code",
   "execution_count": null,
   "metadata": {},
   "outputs": [],
   "source": []
  },
  {
   "cell_type": "code",
   "execution_count": null,
   "metadata": {},
   "outputs": [],
   "source": []
  }
 ],
 "metadata": {
  "kernelspec": {
   "display_name": "Python 3",
   "language": "python",
   "name": "python3"
  },
  "language_info": {
   "codemirror_mode": {
    "name": "ipython",
    "version": 3
   },
   "file_extension": ".py",
   "mimetype": "text/x-python",
   "name": "python",
   "nbconvert_exporter": "python",
   "pygments_lexer": "ipython3",
   "version": "3.7.3"
  }
 },
 "nbformat": 4,
 "nbformat_minor": 2
}
